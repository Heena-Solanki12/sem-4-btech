{
 "cells": [
  {
   "cell_type": "markdown",
   "metadata": {},
   "source": [
    "\n",
    "<a href='https://www.darshan.ac.in/'> <img src='https://www.darshan.ac.in/Content/media/DU_Logo.svg' width=\"250\" height=\"300\"/></a>\n",
    "<pre>\n",
    "<center><b><h1>Python Programming - 2301CS404</b></center>\n",
    "<center><b><h1>Lab - 3</b></center>    \n",
    "<pre>"
   ]
  },
  {
   "cell_type": "markdown",
   "metadata": {},
   "source": [
    "# for and while loop"
   ]
  },
  {
   "cell_type": "markdown",
   "metadata": {},
   "source": [
    "### 01) WAP to print 1 to 10."
   ]
  },
  {
   "cell_type": "code",
   "execution_count": 6,
   "metadata": {},
   "outputs": [
    {
     "name": "stdout",
     "output_type": "stream",
     "text": [
      "1 2 3 4 5 6 7 8 9 10 "
     ]
    }
   ],
   "source": [
    "# print 1 to 10\n",
    "for i in range(1,11):\n",
    "    print(i,end=\" \")"
   ]
  },
  {
   "cell_type": "markdown",
   "metadata": {},
   "source": [
    "### 02) WAP to print 1 to n."
   ]
  },
  {
   "cell_type": "code",
   "execution_count": 8,
   "metadata": {},
   "outputs": [
    {
     "name": "stdout",
     "output_type": "stream",
     "text": [
      "Enter Number : 20\n",
      "1 2 3 4 5 6 7 8 9 10 11 12 13 14 15 16 17 18 19 20 "
     ]
    }
   ],
   "source": [
    "# print 1 to n\n",
    "n = int(input(\"Enter Number : \"))\n",
    "for i in range(1,n+1):\n",
    "    print(i,end=\" \")"
   ]
  },
  {
   "cell_type": "markdown",
   "metadata": {},
   "source": [
    "### 03) WAP to print odd numbers between 1 to n."
   ]
  },
  {
   "cell_type": "code",
   "execution_count": 16,
   "metadata": {},
   "outputs": [
    {
     "name": "stdout",
     "output_type": "stream",
     "text": [
      "Enter Number : 30\n",
      "odd numbers is :  1 3 5 7 9 11 13 15 17 19 21 23 25 27 29 "
     ]
    }
   ],
   "source": [
    "# print odd numbers between 1 to n\n",
    "n = int(input(\"Enter Number : \"))\n",
    "print(\"odd numbers is : \",end=\" \")\n",
    "for i in range(1,n+1):\n",
    "    if(i%2!=0):\n",
    "        print(i,end=\" \")"
   ]
  },
  {
   "cell_type": "markdown",
   "metadata": {},
   "source": [
    "### 04) WAP to print numbers between two given numbers which is divisible by 2 but not divisible by 3."
   ]
  },
  {
   "cell_type": "code",
   "execution_count": 17,
   "metadata": {},
   "outputs": [
    {
     "name": "stdout",
     "output_type": "stream",
     "text": [
      "Enter starting range : 10\n",
      "Entrt ending range : 50\n",
      "10 14 16 20 22 26 28 32 34 38 40 44 46 50 "
     ]
    }
   ],
   "source": [
    "# print numbers which is divisible by 2 but not divisible by 3\n",
    "start = int(input(\"Enter starting range : \"))\n",
    "end = int(input(\"Entrt ending range : \"))\n",
    "for i in range(start,end+1):\n",
    "    if(i%2==0 and i%3!=0):\n",
    "        print(i,end=\" \")"
   ]
  },
  {
   "cell_type": "markdown",
   "metadata": {},
   "source": [
    "### 05) WAP to print sum of 1 to n numbers."
   ]
  },
  {
   "cell_type": "code",
   "execution_count": 20,
   "metadata": {},
   "outputs": [
    {
     "name": "stdout",
     "output_type": "stream",
     "text": [
      "Enter Number : 5\n",
      "Sum of 1 to 5 is :  15\n"
     ]
    }
   ],
   "source": [
    "# print sum of 1 to n numbers\n",
    "sumOfNo = 0\n",
    "n = int(input(\"Enter Number : \"))\n",
    "for i in range(1,n+1):\n",
    "    sumOfNo += i\n",
    "print(\"Sum of 1 to\",n,\"is : \",sumOfNo)"
   ]
  },
  {
   "cell_type": "markdown",
   "metadata": {},
   "source": [
    "### 06) WAP to print sum of series 1 + 4 + 9 + 16 + 25 + 36 + ...n."
   ]
  },
  {
   "cell_type": "code",
   "execution_count": 7,
   "metadata": {},
   "outputs": [
    {
     "name": "stdout",
     "output_type": "stream",
     "text": [
      "Enter Number : 10\n",
      "sum of series 1 + 4 + 9 + 16 + 25 + 36 + 49 + 64 + 81 + 100 = 385\n"
     ]
    }
   ],
   "source": [
    "# print sum of series 1 + 4 + 9 + 16 + 25 + 36 + ...n\n",
    "n = int(input(\"Enter Number : \"))\n",
    "sumOfSeries = 0\n",
    "print(\"sum of series\",end=\" \")\n",
    "for i in range(1,n+1):\n",
    "    sumOfSeries += (i*i)\n",
    "    if(i!=n):\n",
    "        print((i*i),end=\" + \")\n",
    "    else:\n",
    "        print((i*i),\"=\",sumOfSeries)"
   ]
  },
  {
   "cell_type": "markdown",
   "metadata": {},
   "source": [
    "### 07) WAP to print sum of series 1 – 2 + 3 – 4 + 5 – 6 + 7 ... n."
   ]
  },
  {
   "cell_type": "code",
   "execution_count": 12,
   "metadata": {},
   "outputs": [
    {
     "name": "stdout",
     "output_type": "stream",
     "text": [
      "Enter Number : 10\n",
      "Sum of series :  1-2+3-4+5-6+7-8+9-10=-5\n"
     ]
    }
   ],
   "source": [
    "# print sum of series 1 – 2 + 3 – 4 + 5 – 6 + 7 ... n.\n",
    "n = int(input(\"Enter Number : \"))\n",
    "sumOfSeries = 0\n",
    "print(\"Sum of series : \",end=\" \")\n",
    "for i in range(1,n+1):\n",
    "    if(i%2!=0):\n",
    "        sumOfSeries += i\n",
    "        if(i==n):\n",
    "            print(i,end='=')\n",
    "        else:\n",
    "            print(i,end='-')\n",
    "    else:\n",
    "        sumOfSeries -= i\n",
    "        if(i==n):\n",
    "            print(i,end='=')\n",
    "        else:\n",
    "            print(i,end='+')\n",
    "print(sumOfSeries)"
   ]
  },
  {
   "cell_type": "markdown",
   "metadata": {},
   "source": [
    "### 08) WAP to print multiplication table of given number."
   ]
  },
  {
   "cell_type": "code",
   "execution_count": 14,
   "metadata": {},
   "outputs": [
    {
     "name": "stdout",
     "output_type": "stream",
     "text": [
      "Enter Number : 3\n",
      "3 * 1 = 3\n",
      "3 * 2 = 6\n",
      "3 * 3 = 9\n",
      "3 * 4 = 12\n",
      "3 * 5 = 15\n",
      "3 * 6 = 18\n",
      "3 * 7 = 21\n",
      "3 * 8 = 24\n",
      "3 * 9 = 27\n",
      "3 * 10 = 30\n"
     ]
    }
   ],
   "source": [
    "# print multiplication table\n",
    "n = int(input(\"Enter Number : \"))\n",
    "for i in range(1,11):\n",
    "    print(n,'*',i,'=',(n*i))"
   ]
  },
  {
   "cell_type": "markdown",
   "metadata": {},
   "source": [
    "### 09) WAP to find factorial of the given number."
   ]
  },
  {
   "cell_type": "code",
   "execution_count": 15,
   "metadata": {},
   "outputs": [
    {
     "name": "stdout",
     "output_type": "stream",
     "text": [
      "Enter Number : 5\n",
      "Factorial of  5 = 120\n"
     ]
    }
   ],
   "source": [
    "# find factorial of the given number\n",
    "n = int(input(\"Enter Number : \"))\n",
    "fact = 1\n",
    "for i in range(n,0,-1):\n",
    "    fact *= i\n",
    "print(\"Factorial of \",n,\"=\",fact)"
   ]
  },
  {
   "cell_type": "markdown",
   "metadata": {},
   "source": [
    "### 10) WAP to find factors of the given number."
   ]
  },
  {
   "cell_type": "code",
   "execution_count": 17,
   "metadata": {},
   "outputs": [
    {
     "name": "stdout",
     "output_type": "stream",
     "text": [
      "Enter Number : 20\n",
      "Factors of  20 is :  1 2 4 5 10 20 "
     ]
    }
   ],
   "source": [
    "# find factors of the gievn number\n",
    "n = int(input(\"Enter Number : \"))\n",
    "print(\"Factors of \",n,\"is : \",end=\" \")\n",
    "for i in range(1,n+1):\n",
    "    if(n%i==0):\n",
    "        print(i,end=\" \")"
   ]
  },
  {
   "cell_type": "markdown",
   "metadata": {},
   "source": [
    "### 11) WAP to find whether the given number is prime or not."
   ]
  },
  {
   "cell_type": "code",
   "execution_count": 10,
   "metadata": {},
   "outputs": [
    {
     "name": "stdout",
     "output_type": "stream",
     "text": [
      "Enter Number : 5\n",
      "Number is prime\n"
     ]
    }
   ],
   "source": [
    "# number is prime or not\n",
    "n = int(input(\"Enter Number : \"))\n",
    "flag=0\n",
    "for i in range(2,n):\n",
    "    if(n%i == 0):\n",
    "        print(\"Number is not prime\")\n",
    "        flag += 1\n",
    "        break;\n",
    "if(flag==0):\n",
    "    print(\"Number is prime\")"
   ]
  },
  {
   "cell_type": "markdown",
   "metadata": {},
   "source": [
    "### 12) WAP to print sum of digits of given number."
   ]
  },
  {
   "cell_type": "code",
   "execution_count": 14,
   "metadata": {},
   "outputs": [
    {
     "name": "stdout",
     "output_type": "stream",
     "text": [
      "Enter Number : 123\n",
      "Sum of Digit  123  =  6\n"
     ]
    }
   ],
   "source": [
    "# print sum of digits of number\n",
    "n = int(input(\"Enter Number : \"))\n",
    "sumOfDigit = 0\n",
    "print(\"Sum of Digit \",n,\" = \",end=\" \")\n",
    "while(n>0):\n",
    "    rem = n%10\n",
    "    sumOfDigit += rem\n",
    "    n = n/10\n",
    "print(int(sumOfDigit))"
   ]
  },
  {
   "cell_type": "markdown",
   "metadata": {},
   "source": [
    "### 13) WAP to check whether the given number is palindrome or not"
   ]
  },
  {
   "cell_type": "code",
   "execution_count": 18,
   "metadata": {},
   "outputs": [
    {
     "name": "stdout",
     "output_type": "stream",
     "text": [
      "Enter Number : 121\n",
      "Number is palindrome\n"
     ]
    }
   ],
   "source": [
    "# number is palindrome or not\n",
    "n = int(input(\"Enter Number : \"))\n",
    "orignalNo = n\n",
    "rev = 0\n",
    "while(n>0):\n",
    "    rem = n%10\n",
    "    rev = ((rev * 10) + rem)\n",
    "    n = int(n/10)\n",
    "if(orignalNo == rev):\n",
    "    print(\"Number is palindrome\")\n",
    "else:\n",
    "    print(\"Number is not palindrome\")"
   ]
  },
  {
   "cell_type": "markdown",
   "metadata": {},
   "source": [
    "### 14) WAP to print GCD of given two numbers."
   ]
  },
  {
   "cell_type": "code",
   "execution_count": 20,
   "metadata": {},
   "outputs": [
    {
     "name": "stdout",
     "output_type": "stream",
     "text": [
      "Enter Number-1 : 12\n",
      "Enter Number-2 : 24\n",
      "GCD of 12 and 24 = 12\n"
     ]
    }
   ],
   "source": [
    "# print GCD of given numbersS\n",
    "def computeGCD(x, y):\n",
    "    if x > y:\n",
    "        small = y\n",
    "    else:\n",
    "        small = x\n",
    "    for i in range(1, small + 1):\n",
    "        if((x % i == 0) and (y % i == 0)):\n",
    "            gcd = i\n",
    "    return gcd\n",
    "\n",
    "a = int(input(\"Enter Number-1 : \"))\n",
    "b = int(input(\"Enter Number-2 : \"))\n",
    "GCD = computeGCD(a,b)\n",
    "print(\"GCD of\",a,\"and\",b,\"=\",GCD)"
   ]
  }
 ],
 "metadata": {
  "kernelspec": {
   "display_name": "Python 3 (ipykernel)",
   "language": "python",
   "name": "python3"
  },
  "language_info": {
   "codemirror_mode": {
    "name": "ipython",
    "version": 3
   },
   "file_extension": ".py",
   "mimetype": "text/x-python",
   "name": "python",
   "nbconvert_exporter": "python",
   "pygments_lexer": "ipython3",
   "version": "3.9.13"
  }
 },
 "nbformat": 4,
 "nbformat_minor": 4
}
