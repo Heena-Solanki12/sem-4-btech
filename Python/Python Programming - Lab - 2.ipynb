{
 "cells": [
  {
   "cell_type": "markdown",
   "metadata": {},
   "source": [
    "\n",
    "<a href='https://www.darshan.ac.in/'> <img src='https://www.darshan.ac.in/Content/media/DU_Logo.svg' width=\"250\" height=\"300\"/></a>\n",
    "<pre>\n",
    "<center><b><h1>Python Programming - 2301CS404</b></center>\n",
    "<center><b><h1>Lab - 2</b></center>    \n",
    "<pre>"
   ]
  },
  {
   "cell_type": "markdown",
   "metadata": {},
   "source": [
    "# if..else.."
   ]
  },
  {
   "cell_type": "markdown",
   "metadata": {},
   "source": [
    "### 01) WAP to check whether the given number is positive or negative."
   ]
  },
  {
   "cell_type": "code",
   "execution_count": 3,
   "metadata": {},
   "outputs": [
    {
     "name": "stdout",
     "output_type": "stream",
     "text": [
      "Enter Number : -34\n",
      "Number is negative\n"
     ]
    }
   ],
   "source": [
    "#check number is positive or negative\n",
    "n = int(input(\"Enter Number : \"));\n",
    "\n",
    "if(n > 0):\n",
    "    print(\"Number is positive\");\n",
    "else:\n",
    "    print(\"Number is negative\");\n"
   ]
  },
  {
   "cell_type": "markdown",
   "metadata": {},
   "source": [
    "### 02) WAP to check whether the given number is odd or even."
   ]
  },
  {
   "cell_type": "code",
   "execution_count": 5,
   "metadata": {},
   "outputs": [
    {
     "name": "stdout",
     "output_type": "stream",
     "text": [
      "Enter Number : 3\n",
      "Number is odd\n"
     ]
    }
   ],
   "source": [
    "#check number is odd or even\n",
    "n = int(input(\"Enter Number : \"));\n",
    "\n",
    "if(n % 2 == 0):\n",
    "    print(\"Number is even\");\n",
    "else:\n",
    "    print(\"Number is odd\");"
   ]
  },
  {
   "cell_type": "markdown",
   "metadata": {},
   "source": [
    "### 03) WAP to find out largest number from given two numbers using simple if and ternary operator."
   ]
  },
  {
   "cell_type": "code",
   "execution_count": 8,
   "metadata": {},
   "outputs": [
    {
     "name": "stdout",
     "output_type": "stream",
     "text": [
      "Enter Number : 10\n",
      "Enter Number : 5\n",
      "10  is laegest\n",
      "10  is largest\n"
     ]
    }
   ],
   "source": [
    "#find out largest number from two numbers\n",
    "n1 = int(input(\"Enter Number : \"));\n",
    "n2 = int(input(\"Enter Number : \"));\n",
    "\n",
    "#using simple if\n",
    "if(n1 > n2):\n",
    "    print(n1,\" is laegest\");\n",
    "else:\n",
    "    print(n2,\" is largest\");\n",
    "    \n",
    "#using ternary operator\n",
    "print(n1,\" is largest\") if(n1 > n2) else print(n2,\" is largest\");"
   ]
  },
  {
   "cell_type": "markdown",
   "metadata": {},
   "source": [
    "### 04) WAP to find out largest number from given three numbers."
   ]
  },
  {
   "cell_type": "code",
   "execution_count": 21,
   "metadata": {},
   "outputs": [
    {
     "name": "stdout",
     "output_type": "stream",
     "text": [
      "Enter Number-1 : 30\n",
      "Enter Number-2 : 20\n",
      "Enter Number-3 : 10\n",
      "30  is largest\n"
     ]
    }
   ],
   "source": [
    "#find out largest number from given three numbers\n",
    "n1 = int(input(\"Enter Number-1 : \"));\n",
    "n2 = int(input(\"Enter Number-2 : \"));\n",
    "n3 = int(input(\"Enter Number-3 : \"));\n",
    "\n",
    "if(n1 > n2 and n1 > n3):\n",
    "    print(n1,\" is largest\");\n",
    "elif(n2 > n3):\n",
    "    print(n2,\" is largest\");\n",
    "else:\n",
    "    print(n3,\" is largest\");"
   ]
  },
  {
   "cell_type": "markdown",
   "metadata": {},
   "source": [
    "### 05) WAP to check whether the given year is leap year or not.\n",
    "[If a year can be divisible by 4 but not divisible by 100 then it is leap year but if it is divisible by 400 then it is leap year]"
   ]
  },
  {
   "cell_type": "code",
   "execution_count": 34,
   "metadata": {},
   "outputs": [
    {
     "name": "stdout",
     "output_type": "stream",
     "text": [
      "Enter Year : 2024\n",
      "2024  is leap year\n"
     ]
    }
   ],
   "source": [
    "#check whether the given year is leap year or not\n",
    "\n",
    "y = int(input(\"Enter Year : \"))\n",
    "\n",
    "if((y % 4 == 0 and y % 100 !=0) or (y % 400 == 0)):\n",
    "    print(y,\" is leap year\")\n",
    "else:\n",
    "    print(y,\" is not leap year\")"
   ]
  },
  {
   "cell_type": "markdown",
   "metadata": {},
   "source": [
    "### 06) WAP in python to display the name of the day according to the number given by the user."
   ]
  },
  {
   "cell_type": "code",
   "execution_count": 39,
   "metadata": {},
   "outputs": [
    {
     "name": "stdout",
     "output_type": "stream",
     "text": [
      "Enter day : 7\n",
      "Sunday\n"
     ]
    }
   ],
   "source": [
    "#display the name of the day according to the number\n",
    "d = int(input(\"Enter day : \"))\n",
    "\n",
    "if(d == 1):\n",
    "    print(\"Monday\");\n",
    "elif(d == 2):\n",
    "    print(\"Tuesday\");\n",
    "elif(d == 3):\n",
    "    print(\"Wednesday\");\n",
    "elif(d == 4):\n",
    "    print(\"Thursday\");\n",
    "elif(d == 5):\n",
    "    print(\"Friday\");\n",
    "elif(d == 6):\n",
    "    print(\"Saturday\");\n",
    "elif(d == 7):\n",
    "    print(\"Sunday\");\n",
    "else:\n",
    "    print(\"Invalid\");"
   ]
  },
  {
   "cell_type": "markdown",
   "metadata": {},
   "source": [
    "### 07) WAP to implement simple calculator which performs (add,sub,mul,div) of two no. based on user input."
   ]
  },
  {
   "cell_type": "code",
   "execution_count": 41,
   "metadata": {},
   "outputs": [
    {
     "name": "stdout",
     "output_type": "stream",
     "text": [
      "Enter Number-1 : 10\n",
      "Enter Number-2 : 2\n",
      "1.Addition\n",
      "2.Subtraction\n",
      "3.Multiplication\n",
      "4.Division\n",
      "Enter Your Choice : 4\n",
      "Division :  10 / 2  =  5.0\n"
     ]
    }
   ],
   "source": [
    "#simple calculator\n",
    "n1 = int(input(\"Enter Number-1 : \"))\n",
    "n2 = int(input(\"Enter Number-2 : \"))\n",
    "\n",
    "print(\"1.Addition\\n2.Subtraction\\n3.Multiplication\\n4.Division\")\n",
    "ch = int(input(\"Enter Your Choice : \"))\n",
    "\n",
    "if(ch == 1):\n",
    "    print(\"Addition : \",n1,\"+\",n2,\" = \",(n1+n2))\n",
    "elif(ch == 2):\n",
    "    print(\"Subtraction : \",n1,\"-\",n2,\" = \",(n1-n2))\n",
    "elif(ch == 3):\n",
    "    print(\"Multiplication : \",n1,\"*\",n2,\" = \",(n1*n2))\n",
    "elif(ch == 4):\n",
    "    print(\"Division : \",n1,\"/\",n2,\" = \",(n1/n2))\n",
    "else:\n",
    "    print(\"Invalid choice\")"
   ]
  },
  {
   "cell_type": "markdown",
   "metadata": {},
   "source": [
    "### 08) WAP to read marks of five subjects. Calculate percentage and print class accordingly. \n",
    "Fail below 35 </br>\n",
    "Pass Class between 35 to 45 </br>\n",
    "Second Class</br>\n",
    "between 45 to 60</br>\n",
    "First Class between 60 to 70</br> \n",
    "Distinction if more than 70"
   ]
  },
  {
   "cell_type": "code",
   "execution_count": 43,
   "metadata": {},
   "outputs": [
    {
     "name": "stdout",
     "output_type": "stream",
     "text": [
      "Enter subject-1 marks : 88\n",
      "Enter subject-2 marks : 90\n",
      "Enter subject-3 marks : 94\n",
      "Enter subject-4 marks : 97\n",
      "Enter subject-5 marks : 99\n",
      "Distinct\n"
     ]
    }
   ],
   "source": [
    "#calculate percentage and print class\n",
    "sub1 = int(input(\"Enter subject-1 marks : \"))\n",
    "sub2 = int(input(\"Enter subject-2 marks : \"))\n",
    "sub3 = int(input(\"Enter subject-3 marks : \"))\n",
    "sub4 = int(input(\"Enter subject-4 marks : \"))\n",
    "sub5 = int(input(\"Enter subject-5 marks : \"))\n",
    "\n",
    "per = ((sub1 + sub2 + sub3 + sub4 + sub5)/500)*100\n",
    "\n",
    "if(per < 35):\n",
    "    print(\"Fail\")\n",
    "elif(per >= 35 and  per < 45):\n",
    "    print(\"Pass Class\")\n",
    "elif(per >= 45 and per < 60):\n",
    "    print(\"Secound Class\")\n",
    "elif(per >= 60 and per <= 70):\n",
    "    print(\"First Class\")\n",
    "else:\n",
    "    print(\"Distinct\")"
   ]
  },
  {
   "cell_type": "markdown",
   "metadata": {},
   "source": [
    "### 09) Three sides of a triangle are entered through the keyboard, WAP to check whether the triangle is isosceles, equilateral, scalene or right-angled triangle."
   ]
  },
  {
   "cell_type": "code",
   "execution_count": 44,
   "metadata": {},
   "outputs": [
    {
     "name": "stdout",
     "output_type": "stream",
     "text": [
      "Enter sides of triangle : \n",
      "Enter side-1 : 10\n",
      "Enter side-2 : 10\n",
      "Enter side-3 : 10\n",
      "The given triangle is equilateral\n"
     ]
    }
   ],
   "source": [
    "#check whether the triangle is isosceles, equilateral, scalene \n",
    "print(\"Enter sides of triangle : \")\n",
    "side1 = int(input(\"Enter side-1 : \"))\n",
    "side2 = int(input(\"Enter side-2 : \"))\n",
    "side3 = int(input(\"Enter side-3 : \"))\n",
    "\n",
    "if(side1 == side2 and side2 == side3):\n",
    "    print(\"The given triangle is equilateral\")\n",
    "elif(side1 == side2 or side2 == side3 or side3 == side1):\n",
    "    print(\"The given triangle is isosceles\")\n",
    "else:\n",
    "    print(\"The given triangle is scalene\")"
   ]
  },
  {
   "cell_type": "markdown",
   "metadata": {},
   "source": [
    "### 10) WAP to find the second largest number among three user input numbers."
   ]
  },
  {
   "cell_type": "code",
   "execution_count": 47,
   "metadata": {},
   "outputs": [
    {
     "name": "stdout",
     "output_type": "stream",
     "text": [
      "Enter Number-1 : 30\n",
      "Enter Number-2 : 70\n",
      "Enter Number-3 : 80\n",
      "70  is secound largest\n"
     ]
    }
   ],
   "source": [
    "#find secound largest number among three numbers\n",
    "n1 = int(input(\"Enter Number-1 : \"))\n",
    "n2 = int(input(\"Enter Number-2 : \"))\n",
    "n3 = int(input(\"Enter Number-3 : \"))\n",
    "\n",
    "maximum = max(n1,n2,n3)\n",
    "minimum = min(n1,n2,n3)\n",
    "\n",
    "if(n1 > minimum and n1 < maximum):\n",
    "    print(n1,\" is secound largest\")\n",
    "elif(n2 > minimum and n2 < maximum):\n",
    "    print(n2,\" is secound largest\")\n",
    "else:\n",
    "    print(n3,\" is secound largest\")"
   ]
  },
  {
   "cell_type": "markdown",
   "metadata": {},
   "source": [
    "### 11) WAP to calculate electricity bill based on following criteria. Which takes the unit from the user.\n",
    "a. First 1 to 50 units – Rs. 2.60/unit</br>\n",
    "b. Next 50 to 100 units – Rs. 3.25/unit</br>\n",
    "c. Next 100 to 200 units – Rs. 5.26/unit</br>\n",
    "d. above 200 units – Rs. 8.45/unit"
   ]
  },
  {
   "cell_type": "code",
   "execution_count": 1,
   "metadata": {},
   "outputs": [
    {
     "name": "stdout",
     "output_type": "stream",
     "text": [
      " Please Enter Number of Units you Consumed : 90\n",
      "\n",
      "Electricity Bill =  292.5\n"
     ]
    }
   ],
   "source": [
    "#calculate electricity bill \n",
    "\n",
    "units = int(input(\" Please Enter Number of Units you Consumed : \"))\n",
    "\n",
    "if(units < 50):\n",
    "    amount = units * 2.60\n",
    "elif(units > 50 and units <= 100):\n",
    "    amount = units * 3.25\n",
    "elif(units > 100 and units <= 200):\n",
    "    amount = unit * 5.26\n",
    "else:\n",
    "    amount = unit * 8.45\n",
    "\n",
    "print(\"\\nElectricity Bill = \", amount)"
   ]
  }
 ],
 "metadata": {
  "kernelspec": {
   "display_name": "Python 3 (ipykernel)",
   "language": "python",
   "name": "python3"
  },
  "language_info": {
   "codemirror_mode": {
    "name": "ipython",
    "version": 3
   },
   "file_extension": ".py",
   "mimetype": "text/x-python",
   "name": "python",
   "nbconvert_exporter": "python",
   "pygments_lexer": "ipython3",
   "version": "3.9.13"
  }
 },
 "nbformat": 4,
 "nbformat_minor": 4
}
