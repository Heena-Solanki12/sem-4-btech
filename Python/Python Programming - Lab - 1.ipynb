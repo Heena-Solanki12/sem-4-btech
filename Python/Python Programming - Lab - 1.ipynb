{
 "cells": [
  {
   "cell_type": "markdown",
   "metadata": {},
   "source": [
    "<a href='https://www.darshan.ac.in/'> <img src='https://www.darshan.ac.in/Content/media/DU_Logo.svg' width=\"250\" height=\"10\"/></a>\n",
    "<pre>\n",
    "<center><b><h1>Python Programming - 2301CS404</b></center>\n",
    "<center><b><h1>Lab - 1</b></center>    \n",
    "<pre>"
   ]
  },
  {
   "cell_type": "markdown",
   "metadata": {},
   "source": [
    "### 01) WAP to print “Hello World”"
   ]
  },
  {
   "cell_type": "code",
   "execution_count": 1,
   "metadata": {},
   "outputs": [
    {
     "name": "stdout",
     "output_type": "stream",
     "text": [
      "Hello World\n"
     ]
    }
   ],
   "source": [
    "#print \"Hello World\"\n",
    "print('Hello World')"
   ]
  },
  {
   "cell_type": "markdown",
   "metadata": {},
   "source": [
    "### 02) WAP to print addition of two numbers with and without using input()."
   ]
  },
  {
   "cell_type": "code",
   "execution_count": 7,
   "metadata": {},
   "outputs": [
    {
     "name": "stdout",
     "output_type": "stream",
     "text": [
      "Addition =  30\n",
      "\n",
      "Enter number-1 : 11\n",
      "Enter number-2 : 12\n",
      "Addition of  11  +  12  =  23\n"
     ]
    }
   ],
   "source": [
    "#without using input()\n",
    "a = 10\n",
    "b = 20\n",
    "print('Addition = ',(a+b))\n",
    "\n",
    "#with using input()\n",
    "n1 = int(input('\\nEnter number-1 : '))\n",
    "n2 = int(input('Enter number-2 : '))\n",
    "print('Addition of ',n1,' + ',n2,' = ',(n1+n2))"
   ]
  },
  {
   "cell_type": "markdown",
   "metadata": {},
   "source": [
    "### 03) WAP to check the type of the variable."
   ]
  },
  {
   "cell_type": "code",
   "execution_count": 11,
   "metadata": {},
   "outputs": [
    {
     "name": "stdout",
     "output_type": "stream",
     "text": [
      "<class 'int'>\n",
      "<class 'float'>\n",
      "<class 'bool'>\n",
      "<class 'str'>\n",
      "<class 'complex'>\n"
     ]
    }
   ],
   "source": [
    "#chcke the type of the variable\n",
    "a = 20\n",
    "print(type(a))\n",
    "b = 10.5\n",
    "print(type(b))\n",
    "c = True\n",
    "print(type(c))\n",
    "d = 'Hello'\n",
    "print(type(d))\n",
    "e = 23+10j\n",
    "print(type(e))"
   ]
  },
  {
   "cell_type": "markdown",
   "metadata": {},
   "source": [
    "### 04) WAP to calculate simple interest."
   ]
  },
  {
   "cell_type": "code",
   "execution_count": 3,
   "metadata": {},
   "outputs": [
    {
     "name": "stdout",
     "output_type": "stream",
     "text": [
      "Enter principal amount : 50000\n",
      "Enter interest rate in percentage : 3.5\n",
      "time duration in years : 3\n",
      "Simple interest =  5250.0\n"
     ]
    }
   ],
   "source": [
    "#calculate simple interest\n",
    "P = int(input('Enter principal amount : '))\n",
    "\n",
    "R = float(input('Enter interest rate in percentage : '))\n",
    "\n",
    "T = int(input('time duration in years : '))\n",
    "\n",
    "SI = (P*R*T)/100\n",
    "\n",
    "print('Simple interest = ',SI)"
   ]
  },
  {
   "cell_type": "markdown",
   "metadata": {},
   "source": [
    "### 05) WAP to calculate area and perimeter of a circle."
   ]
  },
  {
   "cell_type": "code",
   "execution_count": 2,
   "metadata": {},
   "outputs": [
    {
     "name": "stdout",
     "output_type": "stream",
     "text": [
      "Enter radius : 7.9\n",
      "Area of circle :  195.96740000000003\n",
      "Perimeter of circle :  49.612\n"
     ]
    }
   ],
   "source": [
    "#calculate area and perimeter of circle\n",
    "PI = 3.14\n",
    "\n",
    "R = float(input('Enter radius : '))\n",
    "\n",
    "#area of circle\n",
    "area = PI*R*R\n",
    "\n",
    "#perimeter of circle\n",
    "peri = 2*PI*R\n",
    "\n",
    "print('Area of circle : ',area)\n",
    "print('Perimeter of circle : ',peri)"
   ]
  },
  {
   "cell_type": "markdown",
   "metadata": {},
   "source": [
    "### 06) WAP to calculate area of a triangle."
   ]
  },
  {
   "cell_type": "code",
   "execution_count": 3,
   "metadata": {},
   "outputs": [
    {
     "name": "stdout",
     "output_type": "stream",
     "text": [
      "Enter base : 3\n",
      "Enter height : 4\n",
      "Area of a triangle :  6.0\n"
     ]
    }
   ],
   "source": [
    "#area of triangle\n",
    "B = int(input('Enter base : '))\n",
    "\n",
    "H = int(input('Enter height : '))\n",
    "\n",
    "area = ((1/2)*(B*H))\n",
    "\n",
    "print('Area of a triangle : ',area)"
   ]
  },
  {
   "cell_type": "markdown",
   "metadata": {},
   "source": [
    "### 07) WAP to compute quotient and remainder."
   ]
  },
  {
   "cell_type": "code",
   "execution_count": 7,
   "metadata": {},
   "outputs": [
    {
     "name": "stdout",
     "output_type": "stream",
     "text": [
      "Quotient :  2\n",
      "Reminder :  1\n"
     ]
    }
   ],
   "source": [
    "#compute quotion and reminder\n",
    "Q = 5//2\n",
    "R = 5%2\n",
    "\n",
    "print('Quotient : ',Q)\n",
    "print('Reminder : ',R)"
   ]
  },
  {
   "cell_type": "markdown",
   "metadata": {},
   "source": [
    "### 08) WAP to convert degree into Fahrenheit and vice versa."
   ]
  },
  {
   "cell_type": "code",
   "execution_count": 14,
   "metadata": {},
   "outputs": [
    {
     "name": "stdout",
     "output_type": "stream",
     "text": [
      "Enter Degree : 10\n",
      "10  Celsius =  50.0  Fahrenheit\n",
      "50.0  Fahrenheit =  10.0  Celsius\n"
     ]
    }
   ],
   "source": [
    "#degree into fahrenheit \n",
    "C = int(input('Enter Degree : '))\n",
    "\n",
    "F = ((9/5)*C)+32\n",
    "\n",
    "print(C,' Celsius = ',F,' Fahrenheit')\n",
    "\n",
    "#fahrenheit into celsius\n",
    "\n",
    "C = (5/9)*(F-32)\n",
    "\n",
    "print(F,' Fahrenheit = ',C,' Celsius')"
   ]
  },
  {
   "cell_type": "markdown",
   "metadata": {},
   "source": [
    "### 09) WAP to find the distance between two points in 2-D space."
   ]
  },
  {
   "cell_type": "code",
   "execution_count": 15,
   "metadata": {},
   "outputs": [
    {
     "name": "stdout",
     "output_type": "stream",
     "text": [
      "Distance between two points :  5.0\n"
     ]
    }
   ],
   "source": [
    "#distance between two points in 2-D space\n",
    "\n",
    "x1 , y1 = (3 , 4)\n",
    "x2 , y2 = (7 , 7)\n",
    "   \n",
    "distance = (((x2 - x1)**2 +(y2 - y1)**2)**0.5)\n",
    " \n",
    "print('Distance between two points : ',distance)"
   ]
  },
  {
   "cell_type": "markdown",
   "metadata": {},
   "source": [
    "### 10) WAP to print sum of n natural numbers."
   ]
  },
  {
   "cell_type": "code",
   "execution_count": 22,
   "metadata": {},
   "outputs": [
    {
     "name": "stdout",
     "output_type": "stream",
     "text": [
      "Enter Number : 10\n",
      "Sum of 10  natural number :  55.0\n"
     ]
    }
   ],
   "source": [
    "#sum of n natural number\n",
    "n = int(input('Enter Number : '))\n",
    "sumOfN = n*(n+1)/2\n",
    "print('Sum of',n,' natural number : ',sumOfN)"
   ]
  },
  {
   "cell_type": "markdown",
   "metadata": {},
   "source": [
    "### 11) WAP to print sum of square of n natural numbers."
   ]
  },
  {
   "cell_type": "code",
   "execution_count": 1,
   "metadata": {},
   "outputs": [
    {
     "name": "stdout",
     "output_type": "stream",
     "text": [
      "Enter Number : 4\n",
      "Sum of 4  natural number :  30.0\n"
     ]
    }
   ],
   "source": [
    "#sum of square of n natural numbers\n",
    "n = int(input('Enter Number : '))\n",
    "sumOfSquareN = n*(n+1)*(2*n+1)/6\n",
    "print('Sum of',n,' natural number : ',sumOfSquareN)"
   ]
  },
  {
   "cell_type": "markdown",
   "metadata": {},
   "source": [
    "### 12) WAP to concate the first and last name of the student."
   ]
  },
  {
   "cell_type": "code",
   "execution_count": 6,
   "metadata": {},
   "outputs": [
    {
     "name": "stdout",
     "output_type": "stream",
     "text": [
      "Student Name : Heena Solanki\n"
     ]
    }
   ],
   "source": [
    "#concate the first and last name\n",
    "first_name = \"Heena\"\n",
    "last_name = \"Solanki\"\n",
    "\n",
    "name = first_name + \" \" + last_name\n",
    "\n",
    "print(\"Student Name : \"+name)"
   ]
  },
  {
   "cell_type": "markdown",
   "metadata": {},
   "source": [
    "### 13) WAP to swap two numbers."
   ]
  },
  {
   "cell_type": "code",
   "execution_count": 19,
   "metadata": {},
   "outputs": [
    {
     "name": "stdout",
     "output_type": "stream",
     "text": [
      "Enter Number-1 : 10\n",
      "ENter Number-2 : 20\n",
      "Before swap a = 10  b = 20\n",
      "After swap a = 20  b = 10\n"
     ]
    }
   ],
   "source": [
    "#swap two numbers\n",
    "a = int(input('Enter Number-1 : '))\n",
    "\n",
    "b = int(input('ENter Number-2 : '))\n",
    "\n",
    "print('Before swap a =',a,' b =',b)\n",
    "\n",
    "temp = a\n",
    "a = b\n",
    "b = temp\n",
    "\n",
    "print('After swap a =',a,' b =',b)"
   ]
  },
  {
   "cell_type": "markdown",
   "metadata": {},
   "source": [
    "### 14) WAP to get the distance from user into kilometer, and convert it into meter, feet, inches and centimeter."
   ]
  },
  {
   "cell_type": "code",
   "execution_count": null,
   "metadata": {},
   "outputs": [],
   "source": [
    "#convert kilometer into meter, feet, inches and centimeter\n",
    "distance = int(input(\"Enter distance in kilometer : \"));\n",
    "print(\"Distance in kilometres : \",distance);\n",
    "\n",
    "#convert kilometer into meter\n",
    "meter = distance * 1000;\n",
    "print(\"Distance in meter : \",meter);\n",
    "\n",
    "#convert kilometer into feet\n",
    "feet = distance * 3280.84;\n",
    "print(\"Distance in meter : \",meter);\n",
    "\n",
    "#convert kilometer into inches\n",
    "inches = distance * 39370.1;\n",
    "print(\"Distance in inches : \",inches);\n",
    "\n",
    "#convert kilometer into centimeter\n",
    "centimeter = distance * 100000;\n",
    "print(\"Distance in centimeter : \",centimeter);\n"
   ]
  },
  {
   "cell_type": "markdown",
   "metadata": {},
   "source": [
    "### 15) WAP to get day, month and year from the user and print the date in the given format: 23-11-2024."
   ]
  },
  {
   "cell_type": "code",
   "execution_count": 11,
   "metadata": {},
   "outputs": [
    {
     "name": "stdout",
     "output_type": "stream",
     "text": [
      "Enter a year: 2024\n",
      "Enter a month: 11\n",
      "Enter a day: 23\n",
      "23-11-2024\n"
     ]
    }
   ],
   "source": [
    "#print date\n",
    "year = int(input('Enter a year: '))\n",
    "month = int(input('Enter a month: '))\n",
    "day = int(input('Enter a day: '))\n",
    "\n",
    "print(day, month, year, sep=\"-\")"
   ]
  }
 ],
 "metadata": {
  "kernelspec": {
   "display_name": "Python 3 (ipykernel)",
   "language": "python",
   "name": "python3"
  },
  "language_info": {
   "codemirror_mode": {
    "name": "ipython",
    "version": 3
   },
   "file_extension": ".py",
   "mimetype": "text/x-python",
   "name": "python",
   "nbconvert_exporter": "python",
   "pygments_lexer": "ipython3",
   "version": "3.9.13"
  },
  "vscode": {
   "interpreter": {
    "hash": "31f2aee4e71d21fbe5cf8b01ff0e069b9275f58929596ceb00d14d90e3e16cd6"
   }
  }
 },
 "nbformat": 4,
 "nbformat_minor": 4
}
