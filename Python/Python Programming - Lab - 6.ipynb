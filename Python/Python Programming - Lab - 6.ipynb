{
 "cells": [
  {
   "cell_type": "markdown",
   "metadata": {},
   "source": [
    "<a href='https://www.darshan.ac.in/'> <img src='https://www.darshan.ac.in/Content/media/DU_Logo.svg' width=\"250\" height=\"300\"/></a>\n",
    "<pre>\n",
    "<center><b><h1>Python Programming - 2301CS404</b></center>\n",
    "<center><b><h1>Lab - 6</b></center>    \n",
    "<pre>"
   ]
  },
  {
   "cell_type": "markdown",
   "metadata": {},
   "source": [
    "# Tuple"
   ]
  },
  {
   "cell_type": "markdown",
   "metadata": {},
   "source": [
    "### 01) WAP to find sum of tuple elements."
   ]
  },
  {
   "cell_type": "code",
   "execution_count": 6,
   "metadata": {},
   "outputs": [
    {
     "name": "stdout",
     "output_type": "stream",
     "text": [
      "Tuple is : (1, 2, 3, 4, 5)\n",
      "Sum of tuple is : 15\n"
     ]
    }
   ],
   "source": [
    "#find sum of tuple elements\n",
    "t1 = (1, 2, 3, 4, 5)\n",
    "print(\"Tuple is :\",t1)\n",
    "print(\"Sum of tuple is :\",sum(t1))"
   ]
  },
  {
   "cell_type": "markdown",
   "metadata": {},
   "source": [
    "### 02) WAP to find Maximum and Minimum K elements in a given tuple."
   ]
  },
  {
   "cell_type": "code",
   "execution_count": 28,
   "metadata": {},
   "outputs": [
    {
     "name": "stdout",
     "output_type": "stream",
     "text": [
      "Enter K Value : 3\n",
      "Tuple :  (11, 22, 33, 88, 39, 3, 44, 55, 66, 99)\n",
      "Maximum K elements :  [99, 88, 66]\n",
      "Minimum K elements [3, 11, 22]\n"
     ]
    }
   ],
   "source": [
    "#find maximum and minimum K elements\n",
    "t1 = (11, 22, 33, 88, 39, 3, 44, 55, 66,99 )\n",
    "k = int(input(\"Enter K Value : \"))\n",
    "\n",
    "maximum = []\n",
    "minimum = []\n",
    "\n",
    "sorted_list = list(t1)\n",
    "sorted_list.sort()\n",
    "\n",
    "lenOfsorted_list = len(sorted_list)\n",
    "\n",
    "for i in range(1,k+1):\n",
    "    idx = lenOfsorted_list-i\n",
    "    maximum.append(sorted_list[idx])\n",
    "    minimum.append(sorted_list[i-1])\n",
    "\n",
    "print(\"Tuple : \",t1)\n",
    "print(\"Maximum K elements : \",maximum)\n",
    "print(\"Minimum K elements\",minimum)\n"
   ]
  },
  {
   "cell_type": "markdown",
   "metadata": {},
   "source": [
    "### 03) WAP to find tuples which have all elements divisible by K from a list of tuples."
   ]
  },
  {
   "cell_type": "code",
   "execution_count": 51,
   "metadata": {},
   "outputs": [
    {
     "name": "stdout",
     "output_type": "stream",
     "text": [
      "Orignal list of tuple :  [(6, 24, 12), (60, 12, 6), (12, 18, 21)]\n",
      "[(6, 24, 12), (60, 12, 6)]\n"
     ]
    }
   ],
   "source": [
    "#divisible by k form a list of tuples\n",
    "k = 6\n",
    "l1 = [(6, 24, 12), (60, 12, 6), (12, 18, 21)]\n",
    "\n",
    "res = [i for i in l1 if all(j % k ==0 for j in i)]\n",
    "\n",
    "print(\"Orignal list of tuple : \",l1)\n",
    "print(res)\n",
    "        "
   ]
  },
  {
   "cell_type": "markdown",
   "metadata": {},
   "source": [
    "### 04) WAP to create a list of tuples from given list having number and its cube in each tuple."
   ]
  },
  {
   "cell_type": "code",
   "execution_count": 54,
   "metadata": {},
   "outputs": [
    {
     "name": "stdout",
     "output_type": "stream",
     "text": [
      "Orignal Lsit : [1, 2, 3, 4, 5]\n",
      "List of tuples : [(1, 8, 27, 64, 125)]\n"
     ]
    }
   ],
   "source": [
    "#create list of tuple from list\n",
    "l1 = [1, 2, 3, 4, 5]\n",
    "t1 = [tuple(i**3 for i in l1)]\n",
    "print(\"Orignal Lsit :\",l1)\n",
    "print(\"List of tuples :\",t1)"
   ]
  },
  {
   "cell_type": "markdown",
   "metadata": {},
   "source": [
    "### 05) WAP to find tuples with all positive elements from the given list of tuples."
   ]
  },
  {
   "cell_type": "code",
   "execution_count": 57,
   "metadata": {},
   "outputs": [
    {
     "name": "stdout",
     "output_type": "stream",
     "text": [
      "Orignal List Of Tuples : [(1, 2, 3), (11, 22, 33), (-1, -2, 3)]\n",
      "Tuples with all positive elements : [(1, 2, 3), (11, 22, 33)]\n"
     ]
    }
   ],
   "source": [
    "#find tuples with all positive elements\n",
    "listOfTuples = [(1, 2, 3), (11, 22, 33), (-1, -2, 3)]\n",
    "\n",
    "positive = [i for i in listOfTuples if all(j > 0 for j in i)]\n",
    "\n",
    "print(\"Orignal List Of Tuples :\",listOfTuples)\n",
    "print(\"Tuples with all positive elements :\",positive)"
   ]
  },
  {
   "cell_type": "markdown",
   "metadata": {},
   "source": [
    "### 06) WAP to add tuple to list and vice – versa."
   ]
  },
  {
   "cell_type": "code",
   "execution_count": 64,
   "metadata": {},
   "outputs": [
    {
     "name": "stdout",
     "output_type": "stream",
     "text": [
      "Tuple : (1, 2, 3, 4)\n",
      "List : [11, 22, 33, 44]\n",
      "Add tuple to list : [11, 22, 33, 44, 1, 2, 3, 4]\n",
      "Add list to tuple : (1, 2, 3, 4, 11, 22, 33, 44, 1, 2, 3, 4)\n"
     ]
    }
   ],
   "source": [
    "t1 = (1, 2, 3, 4)\n",
    "l1 = [11, 22, 33, 44]\n",
    "\n",
    "print(\"Tuple :\",t1)\n",
    "print(\"List :\",l1)\n",
    "\n",
    "#add tuple to list\n",
    "l1.extend(t1)\n",
    "print(\"Add tuple to list :\",l1)\n",
    "\n",
    "#add list to tuple\n",
    "res = tuple(list(t1) + l1)\n",
    "print(\"Add list to tuple :\",res)"
   ]
  },
  {
   "cell_type": "markdown",
   "metadata": {},
   "source": [
    "### 07) WAP to remove tuples of length K."
   ]
  },
  {
   "cell_type": "code",
   "execution_count": 77,
   "metadata": {},
   "outputs": [
    {
     "name": "stdout",
     "output_type": "stream",
     "text": [
      "Enter K Value : 1\n",
      "[(1, 2, 3), (10, 20), (11, 22, 33), (-1, -2, 3), (50, 69)]\n"
     ]
    }
   ],
   "source": [
    "#remove tuples of length k\n",
    "l1 = [(1, 2, 3), (10, 20), (55,), (11, 22, 33), (-1, -2, 3), (24,), (50, 69)]\n",
    "k = int(input(\"Enter K Value : \"))\n",
    "\n",
    "for i in l1:\n",
    "    if(len(i) == k):\n",
    "        l1.remove(i)\n",
    "print(l1)"
   ]
  },
  {
   "cell_type": "markdown",
   "metadata": {},
   "source": [
    "### 08) WAP to remove duplicates from tuple."
   ]
  },
  {
   "cell_type": "code",
   "execution_count": 79,
   "metadata": {},
   "outputs": [
    {
     "name": "stdout",
     "output_type": "stream",
     "text": [
      "Orignal Tuple : (11, 22, 33, 44, 11, 22, 11, 22, 33, 22)\n",
      "After removing duplication : (33, 11, 44, 22)\n"
     ]
    }
   ],
   "source": [
    "#remove duplicates from tuple\n",
    "t1 = (11, 22, 33, 44, 11, 22, 11, 22, 33, 22)\n",
    "s1 = set(t1)\n",
    "rem_Dupl = tuple(s1)\n",
    "\n",
    "print(\"Orignal Tuple :\",t1)\n",
    "print(\"After removing duplication :\",rem_Dupl)"
   ]
  },
  {
   "cell_type": "markdown",
   "metadata": {},
   "source": [
    "### 09) WAP to multiply adjacent elements of a tuple and print that resultant tuple."
   ]
  },
  {
   "cell_type": "code",
   "execution_count": 85,
   "metadata": {},
   "outputs": [
    {
     "name": "stdout",
     "output_type": "stream",
     "text": [
      "(2, 6, 12, 20)\n"
     ]
    }
   ],
   "source": [
    "#multiply adjacent elements of a tuple\n",
    "t1 = (1, 2, 3, 4, 5)\n",
    "x = list(zip(t1,t1[1:]))\n",
    "mulList =[]\n",
    "    \n",
    "for i in x:\n",
    "    mulList.append(i[0]*i[1])\n",
    "\n",
    "resTuple = tuple(mulList)\n",
    "print(resTuple)"
   ]
  },
  {
   "cell_type": "markdown",
   "metadata": {},
   "source": [
    "### 10) WAP to test if the given tuple is distinct or not."
   ]
  },
  {
   "cell_type": "code",
   "execution_count": 90,
   "metadata": {},
   "outputs": [
    {
     "name": "stdout",
     "output_type": "stream",
     "text": [
      "Tuple is not distinct\n"
     ]
    }
   ],
   "source": [
    "#tuple is distinct or not\n",
    "t1 = (11, 22, 33, 44, 44, 55)\n",
    "s1 = set(t1)\n",
    "\n",
    "if(len(t1) == len(s1)):\n",
    "    print(\"Tuple is distinct\")\n",
    "else:\n",
    "    print(\"Tuple is not distinct\")"
   ]
  }
 ],
 "metadata": {
  "kernelspec": {
   "display_name": "Python 3 (ipykernel)",
   "language": "python",
   "name": "python3"
  },
  "language_info": {
   "codemirror_mode": {
    "name": "ipython",
    "version": 3
   },
   "file_extension": ".py",
   "mimetype": "text/x-python",
   "name": "python",
   "nbconvert_exporter": "python",
   "pygments_lexer": "ipython3",
   "version": "3.9.13"
  }
 },
 "nbformat": 4,
 "nbformat_minor": 4
}
