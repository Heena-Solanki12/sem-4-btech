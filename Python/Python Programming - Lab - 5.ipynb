{
 "cells": [
  {
   "cell_type": "markdown",
   "metadata": {},
   "source": [
    "\n",
    "<a href='https://www.darshan.ac.in/'> <img src='https://www.darshan.ac.in/Content/media/DU_Logo.svg' width=\"250\" height=\"300\"/></a>\n",
    "<pre>\n",
    "<center><b><h1>Python Programming - 2301CS404</b></center>\n",
    "<center><b><h1>Lab - 5</b></center>    \n",
    "<pre>"
   ]
  },
  {
   "cell_type": "markdown",
   "metadata": {},
   "source": [
    "# List"
   ]
  },
  {
   "cell_type": "markdown",
   "metadata": {},
   "source": [
    "### 01) WAP to find sum of all the elements in a List."
   ]
  },
  {
   "cell_type": "code",
   "execution_count": 1,
   "metadata": {},
   "outputs": [
    {
     "name": "stdout",
     "output_type": "stream",
     "text": [
      "Sum of List is :  15\n"
     ]
    }
   ],
   "source": [
    "# find sum of all the elements in a list\n",
    "l1 = [1, 2, 3, 4, 5]\n",
    "sumOfL1 = 0\n",
    "\n",
    "for i in l1:\n",
    "    sumOfL1 += i\n",
    "print(\"Sum of List is : \", sumOfL1)"
   ]
  },
  {
   "cell_type": "markdown",
   "metadata": {},
   "source": [
    "### 02) WAP to find largest element in a List."
   ]
  },
  {
   "cell_type": "code",
   "execution_count": 9,
   "metadata": {},
   "outputs": [
    {
     "name": "stdout",
     "output_type": "stream",
     "text": [
      "List :  [1, 2, 3, 4, 5]\n",
      "Largets element in a list is :  5\n"
     ]
    }
   ],
   "source": [
    "# find largest element in a list\n",
    "l1 = [1, 2, 3, 4, 5]\n",
    "print(\"List : \",l1)\n",
    "print(\"Largets element in a list is : \",max(l1))"
   ]
  },
  {
   "cell_type": "markdown",
   "metadata": {},
   "source": [
    "### 03) WAP to find the length of a List."
   ]
  },
  {
   "cell_type": "code",
   "execution_count": 10,
   "metadata": {},
   "outputs": [
    {
     "name": "stdout",
     "output_type": "stream",
     "text": [
      "List :  [1, 2, 3, 4, 5, 6, 7, 8, 9, 10]\n",
      "length of a list is :  10\n"
     ]
    }
   ],
   "source": [
    "# find the length of a list\n",
    "l1 = [1, 2, 3, 4, 5, 6, 7, 8, 9, 10]\n",
    "print(\"List : \",l1)\n",
    "print(\"length of a list is : \",len(l1))"
   ]
  },
  {
   "cell_type": "markdown",
   "metadata": {},
   "source": [
    "### 04) WAP to interchange first and last elements in a list."
   ]
  },
  {
   "cell_type": "code",
   "execution_count": 12,
   "metadata": {},
   "outputs": [
    {
     "name": "stdout",
     "output_type": "stream",
     "text": [
      "Orignal String :  [1, 2, 3, 4, 5]\n",
      "After interchange fist and last elements in a list :  [5, 2, 3, 4, 1]\n"
     ]
    }
   ],
   "source": [
    "#interchange first and last elements in a list\n",
    "list1 = [1, 2, 3, 4, 5]\n",
    "print(\"Orignal String : \",list1)\n",
    "\n",
    "first = list1[0]\n",
    "last = list1[-1]\n",
    "\n",
    "list1[0] = last\n",
    "list1[-1] = first\n",
    "print(\"After interchange fist and last elements in a list : \",list1)"
   ]
  },
  {
   "cell_type": "markdown",
   "metadata": {},
   "source": [
    "### 05) WAP to split the List into two parts and append the first part to the end."
   ]
  },
  {
   "cell_type": "code",
   "execution_count": 18,
   "metadata": {},
   "outputs": [
    {
     "name": "stdout",
     "output_type": "stream",
     "text": [
      "[6, 7, 8, 9, 10, 1, 2, 3, 4, 5]\n"
     ]
    }
   ],
   "source": [
    "#split the list into two parts\n",
    "l1 = [1, 2, 3, 4, 5, 6, 7, 8, 9, 10]\n",
    "\n",
    "part1 = l1[0 : int(len(l1)/2)]\n",
    "\n",
    "part2 = l1[int(len(l1)/2) : len(l1)]\n",
    "\n",
    "#append the first part to the end\n",
    "newList = part2 + part1\n",
    "\n",
    "print(newList)"
   ]
  },
  {
   "cell_type": "markdown",
   "metadata": {},
   "source": [
    "### 06) WAP to interchange the elements on two positions entered by a user."
   ]
  },
  {
   "cell_type": "code",
   "execution_count": 19,
   "metadata": {},
   "outputs": [
    {
     "name": "stdout",
     "output_type": "stream",
     "text": [
      "Orignal List :  [11, 22, 33, 44, 55, 66, 77, 88, 99, 100]\n",
      "Enter element-1 : 1\n",
      "Enter element-2 : 5\n",
      "After interchange the elements :  [11, 66, 33, 44, 55, 22, 77, 88, 99, 100]\n"
     ]
    }
   ],
   "source": [
    "#interchange the elements on two positions eneterd by user\n",
    "l1 = [11, 22, 33, 44, 55, 66, 77, 88, 99, 100]\n",
    "print(\"Orignal List : \",l1)\n",
    "\n",
    "element1 = int(input(\"Enter element-1 : \"))\n",
    "element2 = int(input(\"Enter element-2 : \"))\n",
    "\n",
    "temp = l1[element1]\n",
    "l1[element1] = l1[element2]\n",
    "l1[element2] = temp\n",
    "\n",
    "print(\"After interchange the elements : \",l1)\n"
   ]
  },
  {
   "cell_type": "markdown",
   "metadata": {},
   "source": [
    "### 07) WAP to reverse the list entered by user."
   ]
  },
  {
   "cell_type": "code",
   "execution_count": 23,
   "metadata": {},
   "outputs": [
    {
     "name": "stdout",
     "output_type": "stream",
     "text": [
      "Enter element of list : 11\n",
      "Enter element of list : 22\n",
      "Enter element of list : 33\n",
      "Enter element of list : 44\n",
      "Enter element of list : 55\n",
      "Orignal String :  [11, 22, 33, 44, 55]\n",
      "Reverse String L  [55, 44, 33, 22, 11]\n"
     ]
    }
   ],
   "source": [
    "#reverse the list entered by user\n",
    "length = 5\n",
    "l1 = []\n",
    "for i in range(0,length):\n",
    "    x = int(input(\"Enter element of list : \"))\n",
    "    l1.append(x)\n",
    "print(\"Orignal String : \",l1)\n",
    "l1.reverse()\n",
    "print(\"Reverse String L \",l1)"
   ]
  },
  {
   "cell_type": "markdown",
   "metadata": {},
   "source": [
    "### 08) WAP to print even numbers in a list."
   ]
  },
  {
   "cell_type": "code",
   "execution_count": 25,
   "metadata": {},
   "outputs": [
    {
     "name": "stdout",
     "output_type": "stream",
     "text": [
      "Even numbers in a list :  22 44 66 88 100 "
     ]
    }
   ],
   "source": [
    "#print even numbers in a list\n",
    "l1 = [11, 22, 33, 44, 55, 66, 77, 88, 99, 100]\n",
    "\n",
    "print(\"Even numbers in a list : \",end=' ')\n",
    "for i in l1:\n",
    "    if(i%2 == 0):\n",
    "        print(i,end=' ')"
   ]
  },
  {
   "cell_type": "markdown",
   "metadata": {},
   "source": [
    "### 09) WAP to count unique items in a list."
   ]
  },
  {
   "cell_type": "code",
   "execution_count": 1,
   "metadata": {},
   "outputs": [
    {
     "name": "stdout",
     "output_type": "stream",
     "text": [
      "Count of unique iteams in a list :  6\n"
     ]
    }
   ],
   "source": [
    "#count unique iteams in a list\n",
    "l1 = [11,22,33,22,11,44,33,88,55,11]\n",
    "count = len(set(l1))\n",
    "print(\"Count of unique iteams in a list : \",count)"
   ]
  },
  {
   "cell_type": "markdown",
   "metadata": {},
   "source": [
    "### 10) WAP to copy a list."
   ]
  },
  {
   "cell_type": "code",
   "execution_count": 1,
   "metadata": {},
   "outputs": [
    {
     "name": "stdout",
     "output_type": "stream",
     "text": [
      "Orignal List :  [11, 22, 33, 44, 55, 66, 77, 88, 99]\n",
      "Copy List :  [11, 22, 33, 44, 55, 66, 77, 88, 99]\n"
     ]
    }
   ],
   "source": [
    "#copy a list\n",
    "l1 = [11,22,33,44,55,66,77,88,99]\n",
    "copy_list = l1.copy()\n",
    "print(\"Orignal List : \",l1)\n",
    "print(\"Copy List : \",copy_list)"
   ]
  },
  {
   "cell_type": "markdown",
   "metadata": {},
   "source": [
    "### 11) WAP to print all odd numbers in a given range."
   ]
  },
  {
   "cell_type": "code",
   "execution_count": 5,
   "metadata": {},
   "outputs": [
    {
     "name": "stdout",
     "output_type": "stream",
     "text": [
      "Enter starting point : 1\n",
      "Enter Ending point : 20\n",
      "Odd numbers is :  1 3 5 7 9 11 13 15 17 19 "
     ]
    }
   ],
   "source": [
    "#odd numbers in a given range\n",
    "start = int(input(\"Enter starting point : \"))\n",
    "end = int(input(\"Enter Ending point : \"))\n",
    "\n",
    "print(\"Odd numbers is : \",end=\" \")\n",
    "for i in range(start,end+1):\n",
    "    if i % 2 != 0:\n",
    "        print(i,end=\" \")"
   ]
  },
  {
   "cell_type": "markdown",
   "metadata": {},
   "source": [
    "### 12) WAP to count occurrences of an element in a list."
   ]
  },
  {
   "cell_type": "code",
   "execution_count": 10,
   "metadata": {},
   "outputs": [
    {
     "name": "stdout",
     "output_type": "stream",
     "text": [
      "Count of  40  occurrences in a list is :  2\n",
      "Count of  10  occurrences in a list is :  2\n",
      "Count of  50  occurrences in a list is :  1\n",
      "Count of  20  occurrences in a list is :  2\n",
      "Count of  30  occurrences in a list is :  3\n"
     ]
    }
   ],
   "source": [
    "#count occurrences of an element in a list\n",
    "l1 = [10, 20, 30, 30, 20, 10, 30, 40, 40, 50,]\n",
    "s1 = set(l1)\n",
    "\n",
    "for i in s1:\n",
    "    count = l1.count(i)\n",
    "    print(\"Count of \",i,\" occurrences in a list is : \",count)"
   ]
  },
  {
   "cell_type": "markdown",
   "metadata": {},
   "source": [
    "### 13) WAP to find second largest number in a list."
   ]
  },
  {
   "cell_type": "code",
   "execution_count": 15,
   "metadata": {},
   "outputs": [
    {
     "name": "stdout",
     "output_type": "stream",
     "text": [
      "Secound largest number in list =  [30, 10, 20, 80, 50, 70, 60] is 70\n"
     ]
    }
   ],
   "source": [
    "#find secound largest number in a list\n",
    "l1 = [30, 10, 20, 80, 50,  70, 60]\n",
    "print(\"Secound largest number in list = \",l1,end=\" \")\n",
    "l1.sort(reverse = True)\n",
    "print(\"is\",l1[1])"
   ]
  },
  {
   "cell_type": "markdown",
   "metadata": {},
   "source": [
    "### 14) WAP to extract elements with frequency greater than K."
   ]
  },
  {
   "cell_type": "code",
   "execution_count": 12,
   "metadata": {},
   "outputs": [
    {
     "name": "stdout",
     "output_type": "stream",
     "text": [
      "Enter K value : 2\n",
      "40 Have greater frequency, which is  2\n",
      "10 Have greater frequency, which is  2\n",
      "50 Have greater frequency, which is  1\n",
      "20 Have greater frequency, which is  3\n",
      "30 Have greater frequency, which is  4\n"
     ]
    }
   ],
   "source": [
    "#extract elements with frequency greater than k\n",
    "l1 = [10, 20, 30, 30, 20, 10, 30, 40, 40, 50, 30, 20]\n",
    "s1 = set(l1)\n",
    "k = int(input(\"Enter K value : \"))\n",
    "\n",
    "for i in s1:\n",
    "    count = l1.count(i)\n",
    "    print(i,\"Have greater frequency, which is \",count)"
   ]
  },
  {
   "cell_type": "markdown",
   "metadata": {},
   "source": [
    "### 15) WAP to create a list of squared numbers from 0 to 9 with and without using List Comprehension."
   ]
  },
  {
   "cell_type": "code",
   "execution_count": 18,
   "metadata": {},
   "outputs": [
    {
     "name": "stdout",
     "output_type": "stream",
     "text": [
      "Using comprehension\n",
      "Squared numbers from 0 to 9 =  [0, 1, 4, 9, 16, 25, 36, 49, 64, 81]\n",
      "\n",
      "Without using comprehension\n",
      "Squared numbers from 0 to 9 =  [0, 1, 4, 9, 16, 25, 36, 49, 64, 81]\n"
     ]
    }
   ],
   "source": [
    "#create a list of squared numbers from 0 to 9 with and without using list comprehension\n",
    "\n",
    "#with using comprehension\n",
    "squared_number = [i**2 for i in range(0,10)]\n",
    "print(\"Using comprehension\")\n",
    "print(\"Squared numbers from 0 to 9 = \",squared_number)\n",
    "\n",
    "#without using list comprehension\n",
    "squared_no = []\n",
    "for i in range(0,10):\n",
    "    squared_no.append(i**2)\n",
    "print(\"\\nWithout using comprehension\")\n",
    "print(\"Squared numbers from 0 to 9 = \",squared_no)"
   ]
  },
  {
   "cell_type": "markdown",
   "metadata": {},
   "source": [
    "### 16) WAP to create a new list (fruit whose name starts with 'b') from the list of fruits given by user."
   ]
  },
  {
   "cell_type": "code",
   "execution_count": 20,
   "metadata": {},
   "outputs": [
    {
     "name": "stdout",
     "output_type": "stream",
     "text": [
      "Enter Fruit : banana\n",
      "Enter Fruit : mango\n",
      "Enter Fruit : apple\n",
      "Enter Fruit : berry\n",
      "Enter Fruit : barberry\n",
      "Given List :  ['banana', 'mango', 'apple', 'berry', 'barberry']\n",
      "New list which is starts with 'b' :  ['banana', 'berry', 'barberry']\n"
     ]
    }
   ],
   "source": [
    "#create a new list banana', 'mango', 'apple', 'berry', 'Barberry\n",
    "fruits = []\n",
    "fruits_b = []\n",
    "n = 5\n",
    "for i in range(0,n):\n",
    "    f = input(\"Enter Fruit : \")\n",
    "    fruits.append(f)\n",
    "    if(f.startswith('b')):\n",
    "        fruits_b.append(f)\n",
    "print(\"Given List : \",fruits)\n",
    "print(\"New list which is starts with 'b' : \",fruits_b)"
   ]
  },
  {
   "cell_type": "markdown",
   "metadata": {},
   "source": [
    "### 17) WAP to create a list of common elements from given two lists."
   ]
  },
  {
   "cell_type": "code",
   "execution_count": 23,
   "metadata": {},
   "outputs": [
    {
     "name": "stdout",
     "output_type": "stream",
     "text": [
      "List-1 :  [10, 20, 1, 2, 30, 3, 40]\n",
      "List-2 :  [1, 2, 3, 4, 5, 6, 7, 8]\n",
      "Common elements is :  [1, 2, 3]\n"
     ]
    }
   ],
   "source": [
    "#create a list of common elements from two list\n",
    "l1 = [10, 20, 1, 2, 30, 3, 40]\n",
    "l2 = [1, 2, 3, 4, 5, 6, 7, 8]\n",
    "common_ele = []\n",
    "common_ele = [i for i in l1 if i in l2]\n",
    "\n",
    "print(\"List-1 : \",l1)\n",
    "print(\"List-2 : \",l2)\n",
    "print(\"Common elements is : \",common_ele)"
   ]
  }
 ],
 "metadata": {
  "kernelspec": {
   "display_name": "Python 3 (ipykernel)",
   "language": "python",
   "name": "python3"
  },
  "language_info": {
   "codemirror_mode": {
    "name": "ipython",
    "version": 3
   },
   "file_extension": ".py",
   "mimetype": "text/x-python",
   "name": "python",
   "nbconvert_exporter": "python",
   "pygments_lexer": "ipython3",
   "version": "3.9.13"
  }
 },
 "nbformat": 4,
 "nbformat_minor": 4
}
