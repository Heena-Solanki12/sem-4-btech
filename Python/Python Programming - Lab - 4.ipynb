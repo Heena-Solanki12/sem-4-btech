{
 "cells": [
  {
   "cell_type": "markdown",
   "metadata": {},
   "source": [
    "\n",
    "<a href='https://www.darshan.ac.in/'> <img src='https://www.darshan.ac.in/Content/media/DU_Logo.svg' width=\"250\" height=\"300\"/></a>\n",
    "<pre>\n",
    "<center><b><h1>Python Programming - 2301CS404</b></center>\n",
    "<center><b><h1>Lab - 4</b></center>    \n",
    "<pre>"
   ]
  },
  {
   "cell_type": "markdown",
   "metadata": {},
   "source": [
    "# String"
   ]
  },
  {
   "cell_type": "markdown",
   "metadata": {},
   "source": [
    "### 01) WAP to check whether the given string is palindrome or not."
   ]
  },
  {
   "cell_type": "code",
   "execution_count": 2,
   "metadata": {},
   "outputs": [
    {
     "name": "stdout",
     "output_type": "stream",
     "text": [
      "Enter String : nayan\n",
      "nayan  is palindrome\n"
     ]
    }
   ],
   "source": [
    "#check given string is palindrome or not\n",
    "s1 = input(\"Enter String : \")\n",
    "s2 = s1[::-1]\n",
    "\n",
    "if(s1 == s2):\n",
    "    print(s1,\" is palindrome\")\n",
    "else:\n",
    "    print(s1,\" is not palindrome\")"
   ]
  },
  {
   "cell_type": "markdown",
   "metadata": {},
   "source": [
    "### 02) WAP to reverse the words in the given string."
   ]
  },
  {
   "cell_type": "code",
   "execution_count": 25,
   "metadata": {},
   "outputs": [
    {
     "name": "stdout",
     "output_type": "stream",
     "text": [
      "Enter String : hello world\n",
      "Orignal string :  hello world\n",
      "Words reverse string :  world hello\n",
      "o l l e h d l r o w\n"
     ]
    }
   ],
   "source": [
    "#reverse the words in the given string\n",
    "s1 = input(\"Enter String : \")\n",
    "l1 = s1.split()\n",
    "l1.reverse()\n",
    "s2 = ' '.join(l1)\n",
    "print(\"Orignal string : \",s1)\n",
    "print(\"Words reverse string : \",s2)\n",
    "\n",
    "rev = \n",
    "# l = []\n",
    "# l2 = s1.split()\n",
    "# for i in l2:\n",
    "#     l += i[::-1]\n",
    "# rev = ' '.join(l)\n",
    "# print(rev)\n",
    "        "
   ]
  },
  {
   "cell_type": "markdown",
   "metadata": {},
   "source": [
    "### 03) WAP to remove ith character from given string."
   ]
  },
  {
   "cell_type": "code",
   "execution_count": 3,
   "metadata": {},
   "outputs": [
    {
     "name": "stdout",
     "output_type": "stream",
     "text": [
      "Enter String : hello\n",
      "Enter index : 1\n"
     ]
    },
    {
     "data": {
      "text/plain": [
       "'hllo'"
      ]
     },
     "execution_count": 3,
     "metadata": {},
     "output_type": "execute_result"
    }
   ],
   "source": [
    "#remove ith character from given string\n",
    "s1 = input(\"Enter String : \")\n",
    "i = int(input(\"Enter index : \"))\n",
    "\n",
    "s2 = s1[:i] + s1[i+1:]\n",
    "s2"
   ]
  },
  {
   "cell_type": "markdown",
   "metadata": {},
   "source": [
    "### 04) WAP to find length of string without using len function."
   ]
  },
  {
   "cell_type": "code",
   "execution_count": 5,
   "metadata": {},
   "outputs": [
    {
     "name": "stdout",
     "output_type": "stream",
     "text": [
      "Enter string : hello\n",
      "String length is :  5\n"
     ]
    }
   ],
   "source": [
    "#find length of string\n",
    "s1 = input(\"Enter string : \")\n",
    "length = 0\n",
    "for i in s1:\n",
    "    length += 1\n",
    "print(\"String length is : \",length)"
   ]
  },
  {
   "cell_type": "markdown",
   "metadata": {},
   "source": [
    "### 05) WAP to print even length word in string."
   ]
  },
  {
   "cell_type": "code",
   "execution_count": 9,
   "metadata": {},
   "outputs": [
    {
     "name": "stdout",
     "output_type": "stream",
     "text": [
      "Enter string : Hello everyone this is a python programming language\n",
      "Even length word is : \n",
      "everyone\n",
      "this\n",
      "is\n",
      "python\n",
      "language\n"
     ]
    }
   ],
   "source": [
    "#print even length word in string\n",
    "s1 = s1 = input(\"Enter string : \")\n",
    "s2 = s1.split(' ')\n",
    "print(\"Even length word is : \")\n",
    "for i in s2:\n",
    "    if(len(i) % 2 == 0):\n",
    "        print(i)"
   ]
  },
  {
   "cell_type": "markdown",
   "metadata": {},
   "source": [
    "### 06) WAP to count numbers of vowels in given string."
   ]
  },
  {
   "cell_type": "code",
   "execution_count": 14,
   "metadata": {},
   "outputs": [
    {
     "name": "stdout",
     "output_type": "stream",
     "text": [
      "Enter string : Hello Everyone\n",
      "Numbers of vowels in string is :  6\n"
     ]
    }
   ],
   "source": [
    "#count numbers of vowels in given string\n",
    "s1 = s1 = input(\"Enter string : \")\n",
    "vowels = ['a','e','i','o','u','A','E','I','O','U']\n",
    "count = 0\n",
    "for i in s1:\n",
    "    if(i in vowels):\n",
    "        count += 1\n",
    "print('Numbers of vowels in string is : ',count)"
   ]
  },
  {
   "cell_type": "markdown",
   "metadata": {},
   "source": [
    "### 07) WAP to capitalize the first and last character of each word in a string."
   ]
  },
  {
   "cell_type": "code",
   "execution_count": 17,
   "metadata": {},
   "outputs": [
    {
     "name": "stdout",
     "output_type": "stream",
     "text": [
      "Enter string : hello world\n",
      "HellO WorlD\n"
     ]
    }
   ],
   "source": [
    "#capitalize the first and last character\n",
    "s1 = input(\"Enter string : \")\n",
    "s2 = s1.split()\n",
    "res = []\n",
    "for i in s2:\n",
    "    x = i[0].upper() + i[1:-1] + i[-1].upper()\n",
    "    res.append(x)\n",
    "res = \" \".join(res)\n",
    "print(res)"
   ]
  },
  {
   "cell_type": "markdown",
   "metadata": {},
   "source": [
    "### 08) WAP to convert given array to string."
   ]
  },
  {
   "cell_type": "code",
   "execution_count": 25,
   "metadata": {},
   "outputs": [
    {
     "name": "stdout",
     "output_type": "stream",
     "text": [
      "Array is :  ['h', 'e', 'l', 'l', 'o']\n",
      "After converting array to string :  hello\n",
      "Type :  <class 'str'>\n"
     ]
    }
   ],
   "source": [
    "#convert given array to string\n",
    "arr = ['h','e','l','l','o']\n",
    "s1 = ''.join(arr)\n",
    "print(\"Array is : \",arr)\n",
    "print(\"After converting array to string : \",s1)\n",
    "print(\"Type : \",type(s1))"
   ]
  },
  {
   "cell_type": "markdown",
   "metadata": {},
   "source": [
    "### 09) Check if the password and confirm password is same or not. \n",
    "### In case of only case's mistake, show the error message."
   ]
  },
  {
   "cell_type": "code",
   "execution_count": 28,
   "metadata": {},
   "outputs": [
    {
     "name": "stdout",
     "output_type": "stream",
     "text": [
      "Enter Password : heena@05\n",
      "Enter Confirm Password : Heena@05\n",
      "Error\n"
     ]
    }
   ],
   "source": [
    "# if the password and confirm password is same or note\n",
    "password = input(\"Enter Password : \")\n",
    "confirm_Password = input(\"Enter Confirm Password : \")\n",
    "\n",
    "if(password == confirm_Password):\n",
    "    print(\"Correct\")\n",
    "else:\n",
    "    print(\"Error\")"
   ]
  },
  {
   "cell_type": "markdown",
   "metadata": {},
   "source": [
    "### 10) : Display credit card number. \n",
    "### card no. : 1234 5678 9012 3456\n",
    "### display as  : **** **** **** 3456"
   ]
  },
  {
   "cell_type": "code",
   "execution_count": 16,
   "metadata": {},
   "outputs": [
    {
     "name": "stdout",
     "output_type": "stream",
     "text": [
      "Enter credit card number : 1234 5678 9012 3456\n",
      "**** **** **** 3456\n"
     ]
    }
   ],
   "source": [
    "#display credit card number\n",
    "credit_Card = input(\"Enter credit card number : \")\n",
    "card_no = []\n",
    "for i in credit_Card[:len(credit_Card)-4]:\n",
    "    if(i.isdigit()):\n",
    "        card_no.append('*')\n",
    "    else:\n",
    "        card_no.append(' ')\n",
    "card_no = ''.join(card_no) + credit_Card[len(credit_Card)-4:]\n",
    "print(card_no)"
   ]
  },
  {
   "cell_type": "markdown",
   "metadata": {},
   "source": [
    "### 11) : Checking if the two strings are Anagram or not.\n",
    "### s1 = decimal and s2 = medical are Anagram"
   ]
  },
  {
   "cell_type": "code",
   "execution_count": 25,
   "metadata": {},
   "outputs": [
    {
     "name": "stdout",
     "output_type": "stream",
     "text": [
      "Enter string-1 : decimal\n",
      "Enter string-2 : medical\n",
      "String is Anagram\n"
     ]
    }
   ],
   "source": [
    "#if the two strings are anagram or not\n",
    "s1 = input(\"Enter string-1 : \")\n",
    "s2 = input(\"Enter string-2 : \")\n",
    "s = list(s1)\n",
    "flag = True\n",
    "for i in s2:\n",
    "    if(i in s):\n",
    "        flag = True\n",
    "    else:\n",
    "        flag = False\n",
    "if(flag == True):\n",
    "    print(\"String is Anagram\")\n",
    "else:\n",
    "    print(\"String is not Anagram\")"
   ]
  },
  {
   "cell_type": "markdown",
   "metadata": {},
   "source": [
    "### 12) : Rearrange the given string. First lowercase then uppercase alphabets.\n",
    "### input : EHlsarwiwhtwMV\n",
    "### output : lsarwiwhtwEHMV"
   ]
  },
  {
   "cell_type": "code",
   "execution_count": 34,
   "metadata": {},
   "outputs": [
    {
     "name": "stdout",
     "output_type": "stream",
     "text": [
      "Enter string : EHlsarwiwhtwMV\n",
      "After rearrange the string :  lsarwiwhtwEHMV\n"
     ]
    }
   ],
   "source": [
    "#rearrange the given string\n",
    "s1 = input(\"Enter string : \")\n",
    "upper = ''\n",
    "lower = ''\n",
    "ans = ''\n",
    "for i in s1:\n",
    "    if(i.isupper()):\n",
    "        upper = upper + i\n",
    "    else:\n",
    "        lower = lower + i\n",
    "op = lower + upper\n",
    "print(\"After rearrange the string : \",op)"
   ]
  }
 ],
 "metadata": {
  "kernelspec": {
   "display_name": "Python 3 (ipykernel)",
   "language": "python",
   "name": "python3"
  },
  "language_info": {
   "codemirror_mode": {
    "name": "ipython",
    "version": 3
   },
   "file_extension": ".py",
   "mimetype": "text/x-python",
   "name": "python",
   "nbconvert_exporter": "python",
   "pygments_lexer": "ipython3",
   "version": "3.9.13"
  },
  "vscode": {
   "interpreter": {
    "hash": "31f2aee4e71d21fbe5cf8b01ff0e069b9275f58929596ceb00d14d90e3e16cd6"
   }
  }
 },
 "nbformat": 4,
 "nbformat_minor": 4
}
